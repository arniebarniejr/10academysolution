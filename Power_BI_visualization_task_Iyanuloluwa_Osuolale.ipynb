{
  "nbformat": 4,
  "nbformat_minor": 0,
  "metadata": {
    "kernelspec": {
      "display_name": "Python 3",
      "language": "python",
      "name": "python3"
    },
    "language_info": {
      "codemirror_mode": {
        "name": "ipython",
        "version": 3
      },
      "file_extension": ".py",
      "mimetype": "text/x-python",
      "name": "python",
      "nbconvert_exporter": "python",
      "pygments_lexer": "ipython3",
      "version": "3.7.6"
    },
    "colab": {
      "name": "Copy of Power BI visualization task.ipynb",
      "provenance": [],
      "include_colab_link": true
    }
  },
  "cells": [
    {
      "cell_type": "markdown",
      "metadata": {
        "id": "view-in-github",
        "colab_type": "text"
      },
      "source": [
        "<a href=\"https://colab.research.google.com/github/dmarinere/10academysolution/blob/master/Power_BI_visualization_task_Iyanuloluwa_Osuolale.ipynb\" target=\"_parent\"><img src=\"https://colab.research.google.com/assets/colab-badge.svg\" alt=\"Open In Colab\"/></a>"
      ]
    },
    {
      "cell_type": "markdown",
      "metadata": {
        "id": "J2Rds7qaU6Ss",
        "colab_type": "text"
      },
      "source": [
        "# Power BI Dashboard Task"
      ]
    },
    {
      "cell_type": "markdown",
      "metadata": {
        "id": "ea-V11kjU6Sx",
        "colab_type": "text"
      },
      "source": [
        "### Section 1: Explore the dashboard KPIs visualization challenge and answer the following questions\n",
        "* What is the total number of subscribers in the dataset?\n",
        "Answer: 751.06k\n",
        "* What is the total revenue?\n",
        "Answer: 5.22Billion \n",
        "* What is the total number of calls for MTN Ipulse tariff type?\n",
        "228.53Billion\n",
        "* Which cluster_tag is the top voice user?\n",
        "Dormant \n",
        "* What is the average voice usage for all the customers?\n",
        "45.71Billion\n",
        "* What is the share of weekday onnet voice usage?\n",
        "66.42 Seconds\n",
        "* What is the share of weekend onnet voice usage?\n",
        "65.79 Seconds\n",
        "* What is the share of weekend offnet voice usage?\n",
        "34.03 Seconds\n",
        "* What is the share of weekend voice usage (secs)?\n",
        "\n",
        "* Which cluster has the highest number of calls? \n",
        "* Which cluster has the lowest voice usage? \n",
        "* Which cluster has the highest night usage? "
      ]
    },
    {
      "cell_type": "markdown",
      "metadata": {
        "id": "mEN1Ue7LU6S0",
        "colab_type": "text"
      },
      "source": [
        "### Section 2: Explore the dashboard KPIs visualization challenge and answer the following questions\n",
        "* What is the average data usage? \n",
        "\n",
        "* What is the average data usage for women? \n",
        "\n",
        "* What is the average data usage in ABIA state? \n",
        "\n",
        "* What is the average data usage in BAUCHI state? \n",
        "\n",
        "* Which cluster has the highest in bundle data usage?\n",
        "Traditionalist\n",
        "* What is the average data revenue?\n",
        "\n",
        "* What is the average data usage for microsegment 1.10?\n",
        "* What is the average data usage for the microsegment 0.80? "
      ]
    },
    {
      "cell_type": "markdown",
      "metadata": {
        "id": "fBAPETl8U6S1",
        "colab_type": "text"
      },
      "source": [
        "### Section 3: Explore the dashboard KPIs visualization challenge and answer the following questions\n",
        "* What is the total lifetime value of the customers?\n",
        "\n",
        "* What is the average sms usage?\n",
        "\n",
        "* What can you diagnose when looking on voice usage trend?\n",
        "\n",
        "* What can you diagnose when looking on sms usage trend?"
      ]
    },
    {
      "cell_type": "code",
      "metadata": {
        "id": "sAiHJsihU6S3",
        "colab_type": "code",
        "colab": {}
      },
      "source": [
        ""
      ],
      "execution_count": null,
      "outputs": []
    }
  ]
}