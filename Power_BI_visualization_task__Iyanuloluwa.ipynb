{
  "nbformat": 4,
  "nbformat_minor": 0,
  "metadata": {
    "kernelspec": {
      "display_name": "Python 3",
      "language": "python",
      "name": "python3"
    },
    "language_info": {
      "codemirror_mode": {
        "name": "ipython",
        "version": 3
      },
      "file_extension": ".py",
      "mimetype": "text/x-python",
      "name": "python",
      "nbconvert_exporter": "python",
      "pygments_lexer": "ipython3",
      "version": "3.7.6"
    },
    "colab": {
      "name": "Power BI visualization task _Iyanuloluwa.ipynb",
      "provenance": [],
      "include_colab_link": true
    }
  },
  "cells": [
    {
      "cell_type": "markdown",
      "metadata": {
        "id": "view-in-github",
        "colab_type": "text"
      },
      "source": [
        "<a href=\"https://colab.research.google.com/github/dmarinere/10academysolution/blob/master/Power_BI_visualization_task__Iyanuloluwa.ipynb\" target=\"_parent\"><img src=\"https://colab.research.google.com/assets/colab-badge.svg\" alt=\"Open In Colab\"/></a>"
      ]
    },
    {
      "cell_type": "markdown",
      "metadata": {
        "id": "J2Rds7qaU6Ss",
        "colab_type": "text"
      },
      "source": [
        "# Power BI Dashboard Task"
      ]
    },
    {
      "cell_type": "markdown",
      "metadata": {
        "id": "ea-V11kjU6Sx",
        "colab_type": "text"
      },
      "source": [
        "### Section 1: Explore the dashboard KPIs visualization challenge and answer the following questions\n",
        "* What is the total number of subscribers in the dataset?\n",
        "Answer: 751.06k\n",
        "* What is the total revenue?\n",
        "Answer: 5.22Billion \n",
        "* What is the total number of calls for MTN Ipulse tariff type?\n",
        "Answer: 20.11trillion\n",
        "* Which cluster_tag is the top voice user?\n",
        "Answer: Dormant \n",
        "* What is the average voice usage for all the customers?\n",
        "Answer: 45.71Billion\n",
        "* What is the share of weekday onnet voice usage?\n",
        "Answer: 71.08 Seconds\n",
        "* What is the share of weekend onnet voice usage?\n",
        "Answer: 70.62 Seconds\n",
        "* What is the share of weekend offnet voice usage?\n",
        "34.03 Seconds\n",
        "* What is the share of weekend voice usage (secs)?   \n",
        "8.9Billion \n",
        "* Which cluster has the highest number of calls?    \n",
        "Platinium\n",
        "* Which cluster has the lowest voice usage?    \n",
        "Dormant\n",
        "* Which cluster has the highest night usage?   \n",
        "Platinium"
      ]
    },
    {
      "cell_type": "markdown",
      "metadata": {
        "id": "mEN1Ue7LU6S0",
        "colab_type": "text"
      },
      "source": [
        "### Section 2: Explore the dashboard KPIs visualization challenge and answer the following questions\n",
        "* What is the average data usage? \n",
        "**1.58Trillion**\n",
        "* What is the average data usage for women? \n",
        "**1.58Trillion**   \n",
        "What is the average data usage in ABIA state? \n",
        "**1.58Trillion*\n",
        "* What is the average data usage in BAUCHI state?        \n",
        "**1.58Trillion**\n",
        "* Which cluster has the highest in bundle data usage?     \n",
        "**Platinium**\n",
        "* What is the average data revenue?    \n",
        "**50,580.56** \n",
        "* What is the average data usage for microsegment 1.10? \n",
        "**1.58Trillion**\n",
        "* What is the average data usage for the microsegment 0.80?    \n",
        "**1.58Trillion**"
      ]
    },
    {
      "cell_type": "markdown",
      "metadata": {
        "id": "fBAPETl8U6S1",
        "colab_type": "text"
      },
      "source": [
        "### Section 3: Explore the dashboard KPIs visualization challenge and answer the following questions\n",
        "* What is the total lifetime value of the customers?\n",
        "10.36Billion Naira\n",
        "* What is the average sms usage?\n",
        "23.68Million\n",
        "* What can you diagnose when looking on voice usage trend?  \n",
        "** we notice that in the 3rd to 4th month there is an huge decline in the usage of the Voice service which starts picking up when the 4th month starts\n",
        "* What can you diagnose when looking on sms usage trend?    \n",
        "** We also notice something similar with the SMS usage service there was a decline in the number of people using it in the 3rd to 4th month it begins to see a growth as the 4th month starts"
      ]
    },
    {
      "cell_type": "code",
      "metadata": {
        "id": "sAiHJsihU6S3",
        "colab_type": "code",
        "colab": {}
      },
      "source": [
        ""
      ],
      "execution_count": null,
      "outputs": []
    }
  ]
}